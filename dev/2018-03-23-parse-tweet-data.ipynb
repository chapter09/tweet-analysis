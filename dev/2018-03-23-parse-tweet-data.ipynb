{
 "cells": [
  {
   "cell_type": "code",
   "execution_count": 396,
   "metadata": {},
   "outputs": [],
   "source": [
    "import pandas as pd\n",
    "import numpy as np\n",
    "import os, sys\n",
    "import csv\n",
    "pd.set_option('display.max_colwidth', -1)"
   ]
  },
  {
   "cell_type": "code",
   "execution_count": 415,
   "metadata": {},
   "outputs": [],
   "source": [
    "file_name = \"dev\"\n",
    "\n",
    "orig_file = \"/mnt/tweets/%s-parsed.csv\" % file_name\n",
    "cln_file = \"/mnt/tweets/%s-parsed-cleaned.csv\" % file_name\n",
    "dict_file = \"../data/raw/%s.txt\" % file_name\n",
    "labeled_file = \"../data/parsed/%s-labeled.csv\" % file_name"
   ]
  },
  {
   "cell_type": "markdown",
   "metadata": {},
   "source": [
    "Clean the data. Due to the bug of Pandas `to_csv` (https://github.com/pandas-dev/pandas/issues/17365), we have the following lines that `read_csv` cannot correctly parse:\n",
    "\n",
    "```\n",
    "24,135724218678657024,\"Thanking the man above for letting me & my loved ones see another day &lt;3\n",
    "#thankful\"\n",
    "25,148946558874947584,No one wants yogurt on a Monday night. :( #lonely\n",
    "```"
   ]
  },
  {
   "cell_type": "code",
   "execution_count": 416,
   "metadata": {},
   "outputs": [],
   "source": [
    "with open(orig_file) as fd:\n",
    "    lines = fd.readlines()\n",
    "    lines_cleaned = []\n",
    "\n",
    "    i = 0\n",
    "    \n",
    "    def iter_func(i, lines):\n",
    "        '''\n",
    "        recursively read the next line, stop when the next line starts with a number\n",
    "        '''\n",
    "        \n",
    "        cur_l = lines[i]\n",
    "        if not cur_l[0].isdigit():\n",
    "            lx, pos = iter_func(i+1, lines)\n",
    "            return cur_l.strip()+\" \"+lx, pos\n",
    "        else:\n",
    "            return \"\", i\n",
    "    \n",
    "    while i < len(lines)-1:\n",
    "        if lines[i][0].isdigit() and not lines[i+1][0].isdigit():\n",
    "            cur_l = lines[i]\n",
    "            lx, i = iter_func(i+1, lines)\n",
    "            lines_cleaned.append(cur_l.strip()+\" \"+lx)\n",
    "            continue\n",
    "        elif lines[i][0].isdigit() and lines[i+1][0].isdigit():\n",
    "            lines_cleaned.append(lines[i].strip())\n",
    "            i += 1\n",
    "            continue\n",
    "        else:\n",
    "            '''\n",
    "            Unexpected lines\n",
    "            '''\n",
    "            print(i, lines[i])\n",
    "            break\n",
    "    \n",
    "with open(cln_file, 'w') as fd:\n",
    "    for line in lines_cleaned:\n",
    "        fd.write(line+\"\\n\")"
   ]
  },
  {
   "cell_type": "markdown",
   "metadata": {},
   "source": [
    "Build a dictionary to obtain the labels of tweets"
   ]
  },
  {
   "cell_type": "code",
   "execution_count": 417,
   "metadata": {
    "scrolled": true
   },
   "outputs": [],
   "source": [
    "data = pd.read_csv(cln_file, names=['id', 'tid', 'tweet'])"
   ]
  },
  {
   "cell_type": "code",
   "execution_count": 418,
   "metadata": {},
   "outputs": [],
   "source": [
    "raw_data = pd.read_csv(dict_file, delimiter='\\t', names=['t_id', 'emotion'])\n",
    "r_data_dict = raw_data.set_index('t_id').to_dict()"
   ]
  },
  {
   "cell_type": "code",
   "execution_count": 419,
   "metadata": {},
   "outputs": [],
   "source": [
    "data['emotion'] = data['tid'].apply(lambda tid: r_data_dict['emotion'].get(tid, np.NaN))\n",
    "data = data.drop('id', axis=1)\n",
    "data = data.reset_index(drop=True)"
   ]
  },
  {
   "cell_type": "code",
   "execution_count": 420,
   "metadata": {},
   "outputs": [
    {
     "data": {
      "text/html": [
       "<div>\n",
       "<style scoped>\n",
       "    .dataframe tbody tr th:only-of-type {\n",
       "        vertical-align: middle;\n",
       "    }\n",
       "\n",
       "    .dataframe tbody tr th {\n",
       "        vertical-align: top;\n",
       "    }\n",
       "\n",
       "    .dataframe thead th {\n",
       "        text-align: right;\n",
       "    }\n",
       "</style>\n",
       "<table border=\"1\" class=\"dataframe\">\n",
       "  <thead>\n",
       "    <tr style=\"text-align: right;\">\n",
       "      <th></th>\n",
       "      <th>tid</th>\n",
       "      <th>tweet</th>\n",
       "      <th>emotion</th>\n",
       "    </tr>\n",
       "  </thead>\n",
       "  <tbody>\n",
       "    <tr>\n",
       "      <th>0</th>\n",
       "      <td>137144184007180288</td>\n",
       "      <td>i came to a realization that i am happiest i have been in a very long time. i got those two nigas i love ;) @rachelpazz &amp; myboy;) #happy.</td>\n",
       "      <td>joy</td>\n",
       "    </tr>\n",
       "    <tr>\n",
       "      <th>1</th>\n",
       "      <td>147516714798678016</td>\n",
       "      <td>Getting REALLY excited about @ixdconf. Passport is processing, flights are scheduled, &amp; living is booked. What to do? #Excited #Awesomesauce</td>\n",
       "      <td>joy</td>\n",
       "    </tr>\n",
       "    <tr>\n",
       "      <th>2</th>\n",
       "      <td>149410954986270720</td>\n",
       "      <td>1st Driving lesson in a minute #excited</td>\n",
       "      <td>joy</td>\n",
       "    </tr>\n",
       "    <tr>\n",
       "      <th>3</th>\n",
       "      <td>142720791077863424</td>\n",
       "      <td>Have a good night champ (: @JohnCena u were amazing as always #proud &amp;lt;3</td>\n",
       "      <td>joy</td>\n",
       "    </tr>\n",
       "    <tr>\n",
       "      <th>4</th>\n",
       "      <td>135950336207761409</td>\n",
       "      <td>@topmodel_29 HOLD UP flag on the play...i feel some type of way.I've called you twice, once on your #, left 2 vm and you tweeting smh #hurt</td>\n",
       "      <td>sadness</td>\n",
       "    </tr>\n",
       "  </tbody>\n",
       "</table>\n",
       "</div>"
      ],
      "text/plain": [
       "                  tid                                                                                                                                         tweet  emotion\n",
       "0  137144184007180288  i came to a realization that i am happiest i have been in a very long time. i got those two nigas i love ;) @rachelpazz & myboy;) #happy.     joy    \n",
       "1  147516714798678016  Getting REALLY excited about @ixdconf. Passport is processing, flights are scheduled, & living is booked. What to do? #Excited #Awesomesauce  joy    \n",
       "2  149410954986270720  1st Driving lesson in a minute #excited                                                                                                       joy    \n",
       "3  142720791077863424  Have a good night champ (: @JohnCena u were amazing as always #proud &lt;3                                                                    joy    \n",
       "4  135950336207761409  @topmodel_29 HOLD UP flag on the play...i feel some type of way.I've called you twice, once on your #, left 2 vm and you tweeting smh #hurt   sadness"
      ]
     },
     "execution_count": 420,
     "metadata": {},
     "output_type": "execute_result"
    }
   ],
   "source": [
    "data.head()"
   ]
  },
  {
   "cell_type": "code",
   "execution_count": 421,
   "metadata": {},
   "outputs": [],
   "source": [
    "data.to_csv(labeled_file, index=False)"
   ]
  },
  {
   "cell_type": "code",
   "execution_count": null,
   "metadata": {},
   "outputs": [],
   "source": []
  }
 ],
 "metadata": {
  "kernelspec": {
   "display_name": "Python 3",
   "language": "python",
   "name": "python3"
  },
  "language_info": {
   "codemirror_mode": {
    "name": "ipython",
    "version": 3
   },
   "file_extension": ".py",
   "mimetype": "text/x-python",
   "name": "python",
   "nbconvert_exporter": "python",
   "pygments_lexer": "ipython3",
   "version": "3.6.3"
  }
 },
 "nbformat": 4,
 "nbformat_minor": 2
}
