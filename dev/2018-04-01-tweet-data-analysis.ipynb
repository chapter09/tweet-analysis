{
 "cells": [
  {
   "cell_type": "code",
   "execution_count": 1,
   "metadata": {},
   "outputs": [],
   "source": [
    "import pandas as pd\n",
    "import numpy as np\n",
    "import os, sys\n",
    "import csv\n",
    "pd.set_option('display.max_colwidth', -1)"
   ]
  },
  {
   "cell_type": "code",
   "execution_count": 10,
   "metadata": {},
   "outputs": [],
   "source": [
    "data = pd.read_csv('../data/parsed/dev-labeled.csv')"
   ]
  },
  {
   "cell_type": "code",
   "execution_count": 11,
   "metadata": {},
   "outputs": [
    {
     "data": {
      "text/html": [
       "<div>\n",
       "<style scoped>\n",
       "    .dataframe tbody tr th:only-of-type {\n",
       "        vertical-align: middle;\n",
       "    }\n",
       "\n",
       "    .dataframe tbody tr th {\n",
       "        vertical-align: top;\n",
       "    }\n",
       "\n",
       "    .dataframe thead th {\n",
       "        text-align: right;\n",
       "    }\n",
       "</style>\n",
       "<table border=\"1\" class=\"dataframe\">\n",
       "  <thead>\n",
       "    <tr style=\"text-align: right;\">\n",
       "      <th></th>\n",
       "      <th>tid</th>\n",
       "      <th>tweet</th>\n",
       "      <th>emotion</th>\n",
       "    </tr>\n",
       "  </thead>\n",
       "  <tbody>\n",
       "    <tr>\n",
       "      <th>0</th>\n",
       "      <td>137144184007180288</td>\n",
       "      <td>i came to a realization that i am happiest i have been in a very long time. i got those two nigas i love ;) @rachelpazz &amp; myboy;) #happy.</td>\n",
       "      <td>joy</td>\n",
       "    </tr>\n",
       "    <tr>\n",
       "      <th>1</th>\n",
       "      <td>147516714798678016</td>\n",
       "      <td>Getting REALLY excited about @ixdconf. Passport is processing, flights are scheduled, &amp; living is booked. What to do? #Excited #Awesomesauce</td>\n",
       "      <td>joy</td>\n",
       "    </tr>\n",
       "    <tr>\n",
       "      <th>2</th>\n",
       "      <td>149410954986270720</td>\n",
       "      <td>1st Driving lesson in a minute #excited</td>\n",
       "      <td>joy</td>\n",
       "    </tr>\n",
       "    <tr>\n",
       "      <th>3</th>\n",
       "      <td>142720791077863424</td>\n",
       "      <td>Have a good night champ (: @JohnCena u were amazing as always #proud &amp;lt;3</td>\n",
       "      <td>joy</td>\n",
       "    </tr>\n",
       "    <tr>\n",
       "      <th>4</th>\n",
       "      <td>135950336207761409</td>\n",
       "      <td>@topmodel_29 HOLD UP flag on the play...i feel some type of way.I've called you twice, once on your #, left 2 vm and you tweeting smh #hurt</td>\n",
       "      <td>sadness</td>\n",
       "    </tr>\n",
       "  </tbody>\n",
       "</table>\n",
       "</div>"
      ],
      "text/plain": [
       "                  tid  \\\n",
       "0  137144184007180288   \n",
       "1  147516714798678016   \n",
       "2  149410954986270720   \n",
       "3  142720791077863424   \n",
       "4  135950336207761409   \n",
       "\n",
       "                                                                                                                                          tweet  \\\n",
       "0  i came to a realization that i am happiest i have been in a very long time. i got those two nigas i love ;) @rachelpazz & myboy;) #happy.      \n",
       "1  Getting REALLY excited about @ixdconf. Passport is processing, flights are scheduled, & living is booked. What to do? #Excited #Awesomesauce   \n",
       "2  1st Driving lesson in a minute #excited                                                                                                        \n",
       "3  Have a good night champ (: @JohnCena u were amazing as always #proud &lt;3                                                                     \n",
       "4  @topmodel_29 HOLD UP flag on the play...i feel some type of way.I've called you twice, once on your #, left 2 vm and you tweeting smh #hurt    \n",
       "\n",
       "   emotion  \n",
       "0  joy      \n",
       "1  joy      \n",
       "2  joy      \n",
       "3  joy      \n",
       "4  sadness  "
      ]
     },
     "execution_count": 11,
     "metadata": {},
     "output_type": "execute_result"
    }
   ],
   "source": [
    "data.head()"
   ]
  },
  {
   "cell_type": "markdown",
   "metadata": {},
   "source": [
    "### Preprocessing"
   ]
  },
  {
   "cell_type": "code",
   "execution_count": null,
   "metadata": {},
   "outputs": [],
   "source": []
  }
 ],
 "metadata": {
  "kernelspec": {
   "display_name": "Python 3",
   "language": "python",
   "name": "python3"
  },
  "language_info": {
   "codemirror_mode": {
    "name": "ipython",
    "version": 3
   },
   "file_extension": ".py",
   "mimetype": "text/x-python",
   "name": "python",
   "nbconvert_exporter": "python",
   "pygments_lexer": "ipython3",
   "version": "3.6.3"
  }
 },
 "nbformat": 4,
 "nbformat_minor": 2
}
