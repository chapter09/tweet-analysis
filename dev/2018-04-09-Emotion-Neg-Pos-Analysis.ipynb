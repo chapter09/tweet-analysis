{
 "cells": [
  {
   "cell_type": "code",
   "execution_count": 69,
   "metadata": {},
   "outputs": [],
   "source": [
    "import pandas as pd\n",
    "import os, sys, random\n",
    "module_path = os.path.abspath(os.path.join('../src/Sentiment-Analysis-Twitter/'))\n",
    "if module_path not in sys.path:\n",
    "    sys.path.append(module_path)\n",
    "\n",
    "import nltk, re\n",
    "import collections\n",
    "\n",
    "import time\n",
    "import sanderstwitter02\n",
    "import stanfordcorpus\n",
    "import stats\n",
    "from __future__ import print_function\n",
    "\n",
    "BASE_DIR = '../src/Sentiment-Analysis-Twitter/'"
   ]
  },
  {
   "cell_type": "code",
   "execution_count": 70,
   "metadata": {},
   "outputs": [
    {
     "name": "stdout",
     "output_type": "stream",
     "text": [
      "\n",
      "len( tweets ) = 10111\n"
     ]
    }
   ],
   "source": [
    "tweets1 = sanderstwitter02.getTweetsRawData(\n",
    "    BASE_DIR + 'sentiment.csv')\n",
    "tweets2 = stanfordcorpus.getNormalisedTweets(\n",
    "    BASE_DIR + 'stanfordcorpus/'+stanfordcorpus.FULLDATA+'.5000.norm.csv')\n",
    "#random.shuffle(tweets1)\n",
    "#random.shuffle(tweets2)\n",
    "tweets = tweets1 + tweets2\n",
    "random.shuffle( tweets )\n",
    "#tweets = tweets[:100]\n",
    "print('\\nlen( tweets ) = '+str(len( tweets )))"
   ]
  },
  {
   "cell_type": "code",
   "execution_count": 71,
   "metadata": {},
   "outputs": [
    {
     "data": {
      "text/plain": [
       "[\"I'm goin 2 bed #TWITTER dead tonight\", 'neu', 'twitter', ['#twitter']]"
      ]
     },
     "execution_count": 71,
     "metadata": {},
     "output_type": "execute_result"
    }
   ],
   "source": [
    "tweets[42]"
   ]
  },
  {
   "cell_type": "code",
   "execution_count": 72,
   "metadata": {},
   "outputs": [],
   "source": [
    "from functools import wraps\n",
    "import preprocessing\n",
    "\n",
    "procTweets = [ (preprocessing.processAll(text, subject=subj, query=quer), sent) \n",
    "              for (text, sent, subj, quer) in tweets]"
   ]
  },
  {
   "cell_type": "code",
   "execution_count": 73,
   "metadata": {},
   "outputs": [],
   "source": [
    "stemmer = nltk.stem.PorterStemmer()\n",
    "\n",
    "all_tweets = []                                             #DATADICT: all_tweets =   [ (words, sentiment), ... ]\n",
    "for (text, sentiment) in procTweets:\n",
    "    words = [word if(word[0:2]=='__') else word.lower() \\\n",
    "                for word in text.split() \\\n",
    "                if len(word) >= 3]\n",
    "    words = [stemmer.stem(w) for w in words]                #DATADICT: words = [ 'word1', 'word2', ... ]\n",
    "    all_tweets.append((words, sentiment))"
   ]
  },
  {
   "cell_type": "code",
   "execution_count": 74,
   "metadata": {},
   "outputs": [],
   "source": [
    "train_tweets = all_tweets[:10000]\n",
    "test_tweets = all_tweets[10001:]"
   ]
  },
  {
   "cell_type": "code",
   "execution_count": 110,
   "metadata": {},
   "outputs": [],
   "source": [
    "add_ngram_feat = 2\n",
    "\n",
    "unigrams_fd = nltk.FreqDist()\n",
    "if add_ngram_feat > 1 :\n",
    "    n_grams_fd = nltk.FreqDist()\n",
    "\n",
    "for( words, sentiment ) in train_tweets:\n",
    "    words_uni = words\n",
    "    unigrams_fd.update(words)\n",
    "\n",
    "    if add_ngram_feat>=2 :\n",
    "        words_bi  = [ ','.join(map(str,bg)) for bg in nltk.bigrams(words) ]\n",
    "        n_grams_fd.update( words_bi )\n",
    "\n",
    "    if add_ngram_feat>=3 :\n",
    "        words_tri  = [ ','.join(map(str,tg)) for tg in nltk.trigrams(words) ]\n",
    "        n_grams_fd.update( words_tri )"
   ]
  },
  {
   "cell_type": "code",
   "execution_count": 111,
   "metadata": {},
   "outputs": [
    {
     "name": "stdout",
     "output_type": "stream",
     "text": [
      "\n",
      "len( n_grams ) = 64372\n",
      "\n",
      "len( ngrams_sorted ) = 12447\n"
     ]
    }
   ],
   "source": [
    "unigrams_sorted = unigrams_fd.keys()\n",
    "#bigrams_sorted = nltk.FreqDist(bigrams).keys()\n",
    "#trigrams_sorted = nltk.FreqDist(trigrams).keys()\n",
    "if add_ngram_feat > 1 :\n",
    "    print( '\\nlen( n_grams ) = '+str(len( n_grams_fd )) )\n",
    "    ngrams_sorted = [ k for (k,v) in n_grams_fd.items() if v>1]\n",
    "    print( '\\nlen( ngrams_sorted ) = '+str(len( ngrams_sorted )) )"
   ]
  },
  {
   "cell_type": "code",
   "execution_count": 112,
   "metadata": {},
   "outputs": [],
   "source": [
    "def get_word_features(words):\n",
    "    bag = {}\n",
    "    words_uni = [ 'has(%s)'% ug for ug in words ]\n",
    "\n",
    "    if( add_ngram_feat>=2 ):\n",
    "        words_bi  = [ 'has(%s)'% ','.join(map(str,bg)) for bg in nltk.bigrams(words) ]\n",
    "    else:\n",
    "        words_bi  = []\n",
    "\n",
    "    if( add_ngram_feat>=3 ):\n",
    "        words_tri = [ 'has(%s)'% ','.join(map(str,tg)) for tg in nltk.trigrams(words) ]\n",
    "    else:\n",
    "        words_tri = []\n",
    "\n",
    "    for f in words_uni+words_bi+words_tri:\n",
    "        bag[f] = 1\n",
    "\n",
    "    #bag = collections.Counter(words_uni+words_bi+words_tri)\n",
    "    return bag"
   ]
  },
  {
   "cell_type": "code",
   "execution_count": 113,
   "metadata": {},
   "outputs": [],
   "source": [
    "word_features = [get_word_features(word[0]) for word in train_tweets]"
   ]
  },
  {
   "cell_type": "code",
   "execution_count": 114,
   "metadata": {},
   "outputs": [],
   "source": [
    "negtn_regex = re.compile( r\"\"\"(?:\n",
    "        ^(?:never|no|nothing|nowhere|noone|none|not|\n",
    "            havent|hasnt|hadnt|cant|couldnt|shouldnt|\n",
    "            wont|wouldnt|dont|doesnt|didnt|isnt|arent|aint\n",
    "        )$\n",
    "    )\n",
    "    |\n",
    "    n't\n",
    "    \"\"\", re.X) \n",
    "def get_negation_features(words):\n",
    "    INF = 0.0\n",
    "    negtn = [ bool(negtn_regex.search(w)) for w in words ]\n",
    "\n",
    "    left = [0.0] * len(words)\n",
    "    prev = 0.0\n",
    "    for i in range(0,len(words)):\n",
    "        if( negtn[i] ):\n",
    "            prev = 1.0\n",
    "        left[i] = prev\n",
    "        prev = max( 0.0, prev-0.1)\n",
    "\n",
    "    right = [0.0] * len(words)\n",
    "    prev = 0.0\n",
    "    for i in reversed(range(0,len(words))):\n",
    "        if( negtn[i] ):\n",
    "            prev = 1.0\n",
    "        right[i] = prev\n",
    "        prev = max( 0.0, prev-0.1)\n",
    "\n",
    "    return dict( zip(\n",
    "                    ['neg_l('+w+')' for w in  words] + ['neg_r('+w+')' for w in  words],\n",
    "                    left + right ) )"
   ]
  },
  {
   "cell_type": "code",
   "execution_count": 115,
   "metadata": {},
   "outputs": [],
   "source": [
    " def extract_features(words):\n",
    "    features = {}\n",
    "\n",
    "    word_features = get_word_features(words)\n",
    "    features.update( word_features )\n",
    "\n",
    "    negation_features = get_negation_features(words)\n",
    "    features.update( negation_features )\n",
    "    return features\n"
   ]
  },
  {
   "cell_type": "code",
   "execution_count": 116,
   "metadata": {},
   "outputs": [],
   "source": [
    "v_train = nltk.classify.apply_features(extract_features, train_tweets)\n",
    "v_test = nltk.classify.apply_features(extract_features, test_tweets)"
   ]
  },
  {
   "cell_type": "code",
   "execution_count": 117,
   "metadata": {
    "scrolled": true
   },
   "outputs": [
    {
     "data": {
      "text/plain": [
       "({'has(didnt)': 1,\n",
       "  'has(didnt,write)': 1,\n",
       "  'has(donald)': 1,\n",
       "  'has(donald,petri)': 1,\n",
       "  'has(for)': 1,\n",
       "  'has(for,that)': 1,\n",
       "  'has(her)': 1,\n",
       "  'has(her,newest)': 1,\n",
       "  'has(hope)': 1,\n",
       "  'has(hope,donald)': 1,\n",
       "  u'has(let)': 1,\n",
       "  'has(let,hope)': 1,\n",
       "  u'has(make)': 1,\n",
       "  'has(make,for)': 1,\n",
       "  u'has(movi)': 1,\n",
       "  'has(movi,let)': 1,\n",
       "  'has(newest)': 1,\n",
       "  'has(newest,movi)': 1,\n",
       "  'has(nia)': 1,\n",
       "  'has(nia,vardalo)': 1,\n",
       "  u'has(petri)': 1,\n",
       "  'has(petri,make)': 1,\n",
       "  'has(sad)': 1,\n",
       "  'has(sad,that)': 1,\n",
       "  'has(that)': 1,\n",
       "  'has(that,nia)': 1,\n",
       "  u'has(vardalo)': 1,\n",
       "  'has(vardalo,didnt)': 1,\n",
       "  'has(write)': 1,\n",
       "  'has(write,her)': 1,\n",
       "  'neg_l(didnt)': 1.0,\n",
       "  'neg_l(donald)': 0.30000000000000016,\n",
       "  'neg_l(for)': 1.3877787807814457e-16,\n",
       "  'neg_l(her)': 0.8,\n",
       "  'neg_l(hope)': 0.40000000000000013,\n",
       "  u'neg_l(let)': 0.5000000000000001,\n",
       "  u'neg_l(make)': 0.10000000000000014,\n",
       "  u'neg_l(movi)': 0.6000000000000001,\n",
       "  'neg_l(newest)': 0.7000000000000001,\n",
       "  'neg_l(nia)': 0.0,\n",
       "  u'neg_l(petri)': 0.20000000000000015,\n",
       "  'neg_l(sad)': 0.0,\n",
       "  'neg_l(that)': 0.0,\n",
       "  u'neg_l(vardalo)': 0.0,\n",
       "  'neg_l(write)': 0.9,\n",
       "  'neg_r(didnt)': 1.0,\n",
       "  'neg_r(donald)': 0.0,\n",
       "  'neg_r(for)': 0.0,\n",
       "  'neg_r(her)': 0.0,\n",
       "  'neg_r(hope)': 0.0,\n",
       "  u'neg_r(let)': 0.0,\n",
       "  u'neg_r(make)': 0.0,\n",
       "  u'neg_r(movi)': 0.0,\n",
       "  'neg_r(newest)': 0.0,\n",
       "  'neg_r(nia)': 0.8,\n",
       "  u'neg_r(petri)': 0.0,\n",
       "  'neg_r(sad)': 0.6000000000000001,\n",
       "  'neg_r(that)': 0.0,\n",
       "  u'neg_r(vardalo)': 0.9,\n",
       "  'neg_r(write)': 0.0},\n",
       " 'neg')"
      ]
     },
     "execution_count": 117,
     "metadata": {},
     "output_type": "execute_result"
    }
   ],
   "source": [
    "v_test[2]"
   ]
  },
  {
   "cell_type": "code",
   "execution_count": 118,
   "metadata": {},
   "outputs": [],
   "source": [
    "model = nltk.classify.NaiveBayesClassifier.train(v_train)"
   ]
  },
  {
   "cell_type": "code",
   "execution_count": 119,
   "metadata": {},
   "outputs": [
    {
     "data": {
      "text/plain": [
       "0.7454545454545455"
      ]
     },
     "execution_count": 119,
     "metadata": {},
     "output_type": "execute_result"
    }
   ],
   "source": [
    "nltk.classify.accuracy(model, v_test)"
   ]
  },
  {
   "cell_type": "code",
   "execution_count": 120,
   "metadata": {},
   "outputs": [
    {
     "data": {
      "text/plain": [
       "'neg'"
      ]
     },
     "execution_count": 120,
     "metadata": {},
     "output_type": "execute_result"
    }
   ],
   "source": [
    "model.classify(v_test[2][0])"
   ]
  },
  {
   "cell_type": "code",
   "execution_count": 121,
   "metadata": {},
   "outputs": [],
   "source": [
    "s = \"I am not unhappy today\"\n",
    "stemmer = nltk.stem.PorterStemmer()\n",
    "s = [stemmer.stem(w) for w in s.split()]"
   ]
  },
  {
   "cell_type": "code",
   "execution_count": 122,
   "metadata": {},
   "outputs": [],
   "source": [
    "unigrams_fd = nltk.FreqDist()\n",
    "unigrams_fd.update(s)\n",
    "\n",
    "fs = extract_features(s)"
   ]
  },
  {
   "cell_type": "code",
   "execution_count": 123,
   "metadata": {},
   "outputs": [
    {
     "data": {
      "text/plain": [
       "'neg'"
      ]
     },
     "execution_count": 123,
     "metadata": {},
     "output_type": "execute_result"
    }
   ],
   "source": [
    "model.classify(fs)"
   ]
  },
  {
   "cell_type": "code",
   "execution_count": null,
   "metadata": {},
   "outputs": [],
   "source": []
  }
 ],
 "metadata": {
  "kernelspec": {
   "display_name": "Python 2",
   "language": "python",
   "name": "python2"
  },
  "language_info": {
   "codemirror_mode": {
    "name": "ipython",
    "version": 2
   },
   "file_extension": ".py",
   "mimetype": "text/x-python",
   "name": "python",
   "nbconvert_exporter": "python",
   "pygments_lexer": "ipython2",
   "version": "2.7.12"
  }
 },
 "nbformat": 4,
 "nbformat_minor": 2
}
