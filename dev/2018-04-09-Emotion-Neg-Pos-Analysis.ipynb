{
 "cells": [
  {
   "cell_type": "code",
   "execution_count": 3,
   "metadata": {},
   "outputs": [],
   "source": [
    "import pandas as pd\n",
    "import os, sys, random\n",
    "module_path = os.path.abspath(os.path.join('../src/Sentiment-Analysis-Twitter/'))\n",
    "if module_path not in sys.path:\n",
    "    sys.path.append(module_path)\n",
    "\n",
    "import nltk, re\n",
    "import collections\n",
    "\n",
    "import time\n",
    "import sanderstwitter02\n",
    "import stanfordcorpus\n",
    "import stats\n",
    "from __future__ import print_function\n",
    "\n",
    "BASE_DIR = '../src/Sentiment-Analysis-Twitter/'"
   ]
  },
  {
   "cell_type": "code",
   "execution_count": 4,
   "metadata": {},
   "outputs": [
    {
     "name": "stdout",
     "output_type": "stream",
     "text": [
      "\n",
      "len( tweets ) = 10111\n"
     ]
    }
   ],
   "source": [
    "tweets1 = sanderstwitter02.getTweetsRawData(\n",
    "    BASE_DIR + 'sentiment.csv')\n",
    "tweets2 = stanfordcorpus.getNormalisedTweets(\n",
    "    BASE_DIR + 'stanfordcorpus/'+stanfordcorpus.FULLDATA+'.5000.norm.csv')\n",
    "#random.shuffle(tweets1)\n",
    "#random.shuffle(tweets2)\n",
    "tweets = tweets1 + tweets2\n",
    "random.shuffle( tweets )\n",
    "#tweets = tweets[:100]\n",
    "print('\\nlen( tweets ) = '+str(len( tweets )))"
   ]
  },
  {
   "cell_type": "code",
   "execution_count": 5,
   "metadata": {},
   "outputs": [
    {
     "data": {
      "text/plain": [
       "['is with giordana dying of hunger.. but we have no money... ',\n",
       " 'neg',\n",
       " 'NO_QUERY',\n",
       " []]"
      ]
     },
     "execution_count": 5,
     "metadata": {},
     "output_type": "execute_result"
    }
   ],
   "source": [
    "tweets[42]"
   ]
  },
  {
   "cell_type": "code",
   "execution_count": 6,
   "metadata": {},
   "outputs": [],
   "source": [
    "from functools import wraps\n",
    "import preprocessing\n",
    "\n",
    "procTweets = [ (preprocessing.processAll(text, subject=subj, query=quer), sent) \n",
    "              for (text, sent, subj, quer) in tweets]"
   ]
  },
  {
   "cell_type": "code",
   "execution_count": 7,
   "metadata": {},
   "outputs": [],
   "source": [
    "stemmer = nltk.stem.PorterStemmer()\n",
    "\n",
    "all_tweets = []                                             #DATADICT: all_tweets =   [ (words, sentiment), ... ]\n",
    "for (text, sentiment) in procTweets:\n",
    "    words = [word if(word[0:2]=='__') else word.lower() \\\n",
    "                for word in text.split() \\\n",
    "                if len(word) >= 3]\n",
    "    words = [stemmer.stem(w) for w in words]                #DATADICT: words = [ 'word1', 'word2', ... ]\n",
    "    all_tweets.append((words, sentiment))"
   ]
  },
  {
   "cell_type": "code",
   "execution_count": 8,
   "metadata": {},
   "outputs": [],
   "source": [
    "train_tweets = all_tweets[:10000]\n",
    "test_tweets = all_tweets[10001:]"
   ]
  },
  {
   "cell_type": "code",
   "execution_count": 9,
   "metadata": {},
   "outputs": [],
   "source": [
    "add_ngram_feat = 2\n",
    "\n",
    "unigrams_fd = nltk.FreqDist()\n",
    "if add_ngram_feat > 1 :\n",
    "    n_grams_fd = nltk.FreqDist()\n",
    "\n",
    "for( words, sentiment ) in train_tweets:\n",
    "    words_uni = words\n",
    "    unigrams_fd.update(words)\n",
    "\n",
    "    if add_ngram_feat>=2 :\n",
    "        words_bi  = [ ','.join(map(str,bg)) for bg in nltk.bigrams(words) ]\n",
    "        n_grams_fd.update( words_bi )\n",
    "\n",
    "    if add_ngram_feat>=3 :\n",
    "        words_tri  = [ ','.join(map(str,tg)) for tg in nltk.trigrams(words) ]\n",
    "        n_grams_fd.update( words_tri )"
   ]
  },
  {
   "cell_type": "code",
   "execution_count": 10,
   "metadata": {},
   "outputs": [
    {
     "name": "stdout",
     "output_type": "stream",
     "text": [
      "\n",
      "len( n_grams ) = 64426\n",
      "\n",
      "len( ngrams_sorted ) = 12415\n"
     ]
    }
   ],
   "source": [
    "unigrams_sorted = unigrams_fd.keys()\n",
    "#bigrams_sorted = nltk.FreqDist(bigrams).keys()\n",
    "#trigrams_sorted = nltk.FreqDist(trigrams).keys()\n",
    "if add_ngram_feat > 1 :\n",
    "    print( '\\nlen( n_grams ) = '+str(len( n_grams_fd )) )\n",
    "    ngrams_sorted = [ k for (k,v) in n_grams_fd.items() if v>1]\n",
    "    print( '\\nlen( ngrams_sorted ) = '+str(len( ngrams_sorted )) )"
   ]
  },
  {
   "cell_type": "code",
   "execution_count": 11,
   "metadata": {},
   "outputs": [],
   "source": [
    "def get_word_features(words):\n",
    "    bag = {}\n",
    "    words_uni = [ 'has(%s)'% ug for ug in words ]\n",
    "\n",
    "    if( add_ngram_feat>=2 ):\n",
    "        words_bi  = [ 'has(%s)'% ','.join(map(str,bg)) for bg in nltk.bigrams(words) ]\n",
    "    else:\n",
    "        words_bi  = []\n",
    "\n",
    "    if( add_ngram_feat>=3 ):\n",
    "        words_tri = [ 'has(%s)'% ','.join(map(str,tg)) for tg in nltk.trigrams(words) ]\n",
    "    else:\n",
    "        words_tri = []\n",
    "\n",
    "    for f in words_uni+words_bi+words_tri:\n",
    "        bag[f] = 1\n",
    "\n",
    "    #bag = collections.Counter(words_uni+words_bi+words_tri)\n",
    "    return bag"
   ]
  },
  {
   "cell_type": "code",
   "execution_count": 12,
   "metadata": {},
   "outputs": [],
   "source": [
    "word_features = [get_word_features(word[0]) for word in train_tweets]"
   ]
  },
  {
   "cell_type": "code",
   "execution_count": 13,
   "metadata": {},
   "outputs": [],
   "source": [
    "negtn_regex = re.compile( r\"\"\"(?:\n",
    "        ^(?:never|no|nothing|nowhere|noone|none|not|\n",
    "            havent|hasnt|hadnt|cant|couldnt|shouldnt|\n",
    "            wont|wouldnt|dont|doesnt|didnt|isnt|arent|aint\n",
    "        )$\n",
    "    )\n",
    "    |\n",
    "    n't\n",
    "    \"\"\", re.X) \n",
    "def get_negation_features(words):\n",
    "    INF = 0.0\n",
    "    negtn = [ bool(negtn_regex.search(w)) for w in words ]\n",
    "\n",
    "    left = [0.0] * len(words)\n",
    "    prev = 0.0\n",
    "    for i in range(0,len(words)):\n",
    "        if( negtn[i] ):\n",
    "            prev = 1.0\n",
    "        left[i] = prev\n",
    "        prev = max( 0.0, prev-0.1)\n",
    "\n",
    "    right = [0.0] * len(words)\n",
    "    prev = 0.0\n",
    "    for i in reversed(range(0,len(words))):\n",
    "        if( negtn[i] ):\n",
    "            prev = 1.0\n",
    "        right[i] = prev\n",
    "        prev = max( 0.0, prev-0.1)\n",
    "\n",
    "    return dict( zip(\n",
    "                    ['neg_l('+w+')' for w in  words] + ['neg_r('+w+')' for w in  words],\n",
    "                    left + right ) )"
   ]
  },
  {
   "cell_type": "code",
   "execution_count": 14,
   "metadata": {},
   "outputs": [],
   "source": [
    " def extract_features(words):\n",
    "    features = {}\n",
    "\n",
    "    word_features = get_word_features(words)\n",
    "    features.update( word_features )\n",
    "\n",
    "    negation_features = get_negation_features(words)\n",
    "    features.update( negation_features )\n",
    "    return features\n"
   ]
  },
  {
   "cell_type": "code",
   "execution_count": 15,
   "metadata": {},
   "outputs": [],
   "source": [
    "v_train = nltk.classify.apply_features(extract_features, train_tweets)\n",
    "v_test = nltk.classify.apply_features(extract_features, test_tweets)"
   ]
  },
  {
   "cell_type": "code",
   "execution_count": 16,
   "metadata": {
    "scrolled": true
   },
   "outputs": [
    {
     "data": {
      "text/plain": [
       "({'has(__hndl)': 1,\n",
       "  'has(__hndl,how)': 1,\n",
       "  u'has(__punc_qu)': 1,\n",
       "  u'has(almighti)': 1,\n",
       "  'has(almighti,__hndl)': 1,\n",
       "  u'has(awesom)': 1,\n",
       "  'has(awesom,__punc_qu)': 1,\n",
       "  'has(from)': 1,\n",
       "  'has(from,the)': 1,\n",
       "  'has(got)': 1,\n",
       "  'has(got,repli)': 1,\n",
       "  'has(how)': 1,\n",
       "  'has(how,awesom)': 1,\n",
       "  u'has(repli)': 1,\n",
       "  'has(repli,from)': 1,\n",
       "  'has(the)': 1,\n",
       "  'has(the,almighti)': 1,\n",
       "  'has(woop)': 1,\n",
       "  'has(woop,got)': 1,\n",
       "  'neg_l(__hndl)': 0.0,\n",
       "  u'neg_l(__punc_qu)': 0.0,\n",
       "  u'neg_l(almighti)': 0.0,\n",
       "  u'neg_l(awesom)': 0.0,\n",
       "  'neg_l(from)': 0.0,\n",
       "  'neg_l(got)': 0.0,\n",
       "  'neg_l(how)': 0.0,\n",
       "  u'neg_l(repli)': 0.0,\n",
       "  'neg_l(the)': 0.0,\n",
       "  'neg_l(woop)': 0.0,\n",
       "  'neg_r(__hndl)': 0.0,\n",
       "  u'neg_r(__punc_qu)': 0.0,\n",
       "  u'neg_r(almighti)': 0.0,\n",
       "  u'neg_r(awesom)': 0.0,\n",
       "  'neg_r(from)': 0.0,\n",
       "  'neg_r(got)': 0.0,\n",
       "  'neg_r(how)': 0.0,\n",
       "  u'neg_r(repli)': 0.0,\n",
       "  'neg_r(the)': 0.0,\n",
       "  'neg_r(woop)': 0.0},\n",
       " 'pos')"
      ]
     },
     "execution_count": 16,
     "metadata": {},
     "output_type": "execute_result"
    }
   ],
   "source": [
    "v_test[2]"
   ]
  },
  {
   "cell_type": "code",
   "execution_count": 17,
   "metadata": {},
   "outputs": [],
   "source": [
    "model = nltk.classify.NaiveBayesClassifier.train(v_train)"
   ]
  },
  {
   "cell_type": "code",
   "execution_count": 18,
   "metadata": {},
   "outputs": [
    {
     "data": {
      "text/plain": [
       "0.8454545454545455"
      ]
     },
     "execution_count": 18,
     "metadata": {},
     "output_type": "execute_result"
    }
   ],
   "source": [
    "nltk.classify.accuracy(model, v_test)"
   ]
  },
  {
   "cell_type": "code",
   "execution_count": 19,
   "metadata": {},
   "outputs": [
    {
     "data": {
      "text/plain": [
       "'pos'"
      ]
     },
     "execution_count": 19,
     "metadata": {},
     "output_type": "execute_result"
    }
   ],
   "source": [
    "model.classify(v_test[2][0])"
   ]
  },
  {
   "cell_type": "code",
   "execution_count": 20,
   "metadata": {},
   "outputs": [],
   "source": [
    "s = \"I just ate\"\n",
    "stemmer = nltk.stem.PorterStemmer()\n",
    "s = [stemmer.stem(w) for w in s.split()]"
   ]
  },
  {
   "cell_type": "code",
   "execution_count": 21,
   "metadata": {},
   "outputs": [],
   "source": [
    "unigrams_fd = nltk.FreqDist()\n",
    "unigrams_fd.update(s)\n",
    "\n",
    "fs = extract_features(s)"
   ]
  },
  {
   "cell_type": "code",
   "execution_count": 22,
   "metadata": {},
   "outputs": [
    {
     "data": {
      "text/plain": [
       "'neg'"
      ]
     },
     "execution_count": 22,
     "metadata": {},
     "output_type": "execute_result"
    }
   ],
   "source": [
    "model.classify(fs)"
   ]
  },
  {
   "cell_type": "code",
   "execution_count": null,
   "metadata": {},
   "outputs": [],
   "source": []
  }
 ],
 "metadata": {
  "kernelspec": {
   "display_name": "Python 2",
   "language": "python",
   "name": "python2"
  },
  "language_info": {
   "codemirror_mode": {
    "name": "ipython",
    "version": 2
   },
   "file_extension": ".py",
   "mimetype": "text/x-python",
   "name": "python",
   "nbconvert_exporter": "python",
   "pygments_lexer": "ipython2",
   "version": "2.7.12"
  }
 },
 "nbformat": 4,
 "nbformat_minor": 2
}
