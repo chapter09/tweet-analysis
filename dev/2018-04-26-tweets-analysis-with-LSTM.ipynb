{
 "cells": [
  {
   "cell_type": "markdown",
   "metadata": {},
   "source": [
    "## Tweet Emotion Classification with LSTM\n",
    "Hao Wang (haowang@ece.utoronto.ca)\n",
    "April 26, 2018 "
   ]
  },
  {
   "cell_type": "code",
   "execution_count": 1,
   "metadata": {},
   "outputs": [],
   "source": [
    "import pandas as pd\n",
    "import numpy as np\n",
    "import os, sys\n",
    "import csv\n",
    "pd.set_option('display.max_colwidth', -1)"
   ]
  },
  {
   "cell_type": "markdown",
   "metadata": {},
   "source": [
    "### Prepare the data"
   ]
  },
  {
   "cell_type": "code",
   "execution_count": 2,
   "metadata": {},
   "outputs": [],
   "source": [
    "data = pd.read_csv('../data/parsed/dev-labeled.csv')"
   ]
  },
  {
   "cell_type": "code",
   "execution_count": 3,
   "metadata": {},
   "outputs": [],
   "source": [
    "emo_to_label = {\n",
    "    'anger': 0, \n",
    "    'fear': 1, \n",
    "    'joy': 2, \n",
    "    'love': 3, \n",
    "    'sadness': 4, \n",
    "    'surprise': 5, \n",
    "    'thankfulness': 6 \n",
    "}"
   ]
  },
  {
   "cell_type": "code",
   "execution_count": 4,
   "metadata": {},
   "outputs": [],
   "source": [
    "data['label'] = data['emotion'].apply(lambda emo: emo_to_label[emo])"
   ]
  },
  {
   "cell_type": "code",
   "execution_count": 7,
   "metadata": {},
   "outputs": [],
   "source": [
    "m = data.shape[0]"
   ]
  },
  {
   "cell_type": "code",
   "execution_count": 9,
   "metadata": {},
   "outputs": [],
   "source": [
    "data_train_ratio = 0.8\n",
    "X_train = data['tweet'].iloc[ : round(m*data_train_ratio)]\n",
    "Y_train = data['label'].iloc[ : round(m*data_train_ratio)]\n",
    "X_test = data['tweet'].iloc[round(m*data_train_ratio) : ]\n",
    "Y_test = data['label'].iloc[round(m*data_train_ratio) : ]"
   ]
  },
  {
   "cell_type": "markdown",
   "metadata": {},
   "source": [
    "### Preprocessing\n",
    "\n",
    "#### Cleaning:\n",
    "1. Remove non-English tweets by langid library\n",
    "2. Remove hashtags\n",
    "3. Emoji\n",
    "4. URL\n",
    "5. @\n",
    "\n",
    "#### Tokenization & Normalization\n",
    "1. lower "
   ]
  },
  {
   "cell_type": "code",
   "execution_count": null,
   "metadata": {},
   "outputs": [],
   "source": []
  },
  {
   "cell_type": "code",
   "execution_count": null,
   "metadata": {},
   "outputs": [],
   "source": []
  }
 ],
 "metadata": {
  "kernelspec": {
   "display_name": "Python 3",
   "language": "python",
   "name": "python3"
  },
  "language_info": {
   "codemirror_mode": {
    "name": "ipython",
    "version": 3
   },
   "file_extension": ".py",
   "mimetype": "text/x-python",
   "name": "python",
   "nbconvert_exporter": "python",
   "pygments_lexer": "ipython3",
   "version": "3.6.3"
  }
 },
 "nbformat": 4,
 "nbformat_minor": 2
}
